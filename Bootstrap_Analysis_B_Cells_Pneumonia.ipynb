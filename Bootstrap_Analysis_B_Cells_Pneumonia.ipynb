{
 "cells": [
  {
   "cell_type": "markdown",
   "metadata": {},
   "source": [
    "<b>Bootstrap Analysis for Claim 1: </b> Claim 1 : The clustered heatmap produced by SaVanT separates the acute infection samples into two groups: the predominantly influenza cluster was characterized by higher signature values for type I interferon pathways, <b> B cells </b>, cell-cycle, DNA damage, and apoptosis (Fig. 3B).\n",
    "<div><b>Hypothesis I'm testing based on this claim:</b> Influenza pneumonia patients have an enrichment of B cell signature scores compared to Bacterial pneumonia patients.</div>"
   ]
  },
  {
   "cell_type": "markdown",
   "metadata": {},
   "source": [
    "# Grab Data:"
   ]
  },
  {
   "cell_type": "code",
   "execution_count": 10,
   "metadata": {},
   "outputs": [],
   "source": [
    "import pandas as pd\n",
    "import numpy as np\n",
    "import seaborn as sns\n",
    "import pickle as pickle"
   ]
  },
  {
   "cell_type": "code",
   "execution_count": 11,
   "metadata": {},
   "outputs": [
    {
     "name": "stdout",
     "output_type": "stream",
     "text": [
      "['/Users/danielfrees/Desktop/CSBio 185/Savant_Notebook', '/opt/anaconda3/envs/py3.9/lib/python39.zip', '/opt/anaconda3/envs/py3.9/lib/python3.9', '/opt/anaconda3/envs/py3.9/lib/python3.9/lib-dynload', '', '/opt/anaconda3/envs/py3.9/lib/python3.9/site-packages', '/opt/anaconda3/envs/py3.9/lib/python3.9/site-packages/IPython/extensions', '/Users/danielfrees/.ipython', '/Users/danielfrees/Desktop/Savant_Data/']\n"
     ]
    }
   ],
   "source": [
    "import sys\n",
    "print ( sys.path )"
   ]
  },
  {
   "cell_type": "code",
   "execution_count": 12,
   "metadata": {},
   "outputs": [],
   "source": [
    "sys.path.append(\"/Users/danielfrees/Desktop/Savant_Data/\")"
   ]
  },
  {
   "cell_type": "markdown",
   "metadata": {},
   "source": [
    "<b> The actual data: </b>"
   ]
  },
  {
   "cell_type": "code",
   "execution_count": 13,
   "metadata": {},
   "outputs": [],
   "source": [
    "#note: you will need to figure out where exactly you saved your pickled text files...\n",
    "pd.set_option(\"display.max_rows\", None, \"display.max_columns\", None)\n",
    "df = pd.read_pickle(\"/Users/danielfrees/Desktop/CSBio 185/Savant_Data/viral_vs_bacterial_pneumonia.txt.pkl\")"
   ]
  },
  {
   "cell_type": "code",
   "execution_count": 14,
   "metadata": {},
   "outputs": [],
   "source": [
    "#note: full dataframe displayed so that I could find all relevant molecular signature scores for \n",
    "#investigating the claim. Don't neglect the fact that there can be multiple signatures for each \n",
    "#enriched cell/tissue type etc. when investigating any given hypothesis!\n",
    "\n",
    "#uncomment the below to see the dataframe! Hidden for the sake of space\n",
    "#df"
   ]
  },
  {
   "cell_type": "code",
   "execution_count": 15,
   "metadata": {
    "scrolled": false
   },
   "outputs": [
    {
     "name": "stdout",
     "output_type": "stream",
     "text": [
      "WRS_B_cell\n",
      "HPCA_B_cells\n",
      "HBA_CD19+_BCells(neg\n"
     ]
    }
   ],
   "source": [
    "for index in df.index:\n",
    "    if 'b-cell' in index.lower():\n",
    "        print (index)\n",
    "    if 'b_cell' in index.lower():\n",
    "        print (index)\n",
    "    if 'bcell' in index.lower():\n",
    "        print (index)"
   ]
  },
  {
   "cell_type": "markdown",
   "metadata": {},
   "source": [
    "# Calculate Experimental Statistics:"
   ]
  },
  {
   "cell_type": "code",
   "execution_count": 16,
   "metadata": {},
   "outputs": [
    {
     "name": "stdout",
     "output_type": "stream",
     "text": [
      "-0.750088492207203\n",
      "-0.707225123663175\n",
      "-0.708338226485849\n",
      "-0.65699104107756\n",
      "-0.603587714114506\n",
      "-0.64951048511352\n",
      "-0.654808564094414\n",
      "-0.710847657355867\n",
      "-0.67830326649555\n",
      "-0.692960497844074\n",
      "-0.659906779316439\n",
      "-0.629777760176235\n",
      "-0.591377654497138\n",
      "-0.676731562144452\n",
      "-0.642348039130651\n",
      "-0.662811651324535\n",
      "-0.67861337517269\n",
      "-0.666314627251371\n",
      "-0.577645473624133\n",
      "-0.694005120743361\n",
      "-0.689392932731403\n",
      "-0.688603376660117\n",
      "-0.68798236063021\n",
      "-0.614505902094942\n",
      "-0.627305045864477\n",
      "Total influenza combined scores for WRS_B_cells: -16.59998272981387\n",
      "Total number of influenza samples with WRS_B_cell scores: 25\n",
      "Average WRS B Cell Signature Score for Influenza Pneumonia Patients: -0.6639993091925548\n",
      "-0.740599692545094\n",
      "-0.739251789899815\n",
      "-0.722370419171829\n",
      "-0.710939613593971\n",
      "-0.732924548381492\n",
      "-0.682340379954146\n",
      "-0.687497828180779\n",
      "-0.710291325762104\n",
      "-0.712472688998335\n",
      "-0.735862678511945\n",
      "-0.718627675598601\n",
      "-0.745507957666462\n",
      "-0.737636943045135\n",
      "-0.722568634326718\n",
      "-0.744351609765371\n",
      "-0.580330434693486\n",
      "-0.629783834408898\n",
      "-0.650509503580791\n",
      "-0.739824453802452\n",
      "-0.731445423085523\n",
      "-0.54142900262612\n",
      "-0.696389916100752\n",
      "-0.694276651776458\n",
      "-0.585879726394847\n",
      "-0.571926747955459\n",
      "Total bacterial combined scores for WRS_B_cells: -17.265039479826584\n",
      "Total number of bacterial samples with WRS_B_cell scores: 25\n",
      "Average WRS B Cell Signature Score for Bacterial Pneumonia Patients: -0.6906015791930633\n"
     ]
    }
   ],
   "source": [
    "#First, average combined B cell signature score for each group\n",
    "#Influenza:\n",
    "#WRS_B cells\n",
    "influScore_WRS_B = 0.0\n",
    "numInfluScores = 0\n",
    "\n",
    "#add score for every WRS_B_cell score corresponding to influenza samples\n",
    "\n",
    "for index in df.index:\n",
    "    for column in df.columns:\n",
    "        if index == \"WRS_B_cell\" and 'influenza' in column:\n",
    "            numInfluScores +=1\n",
    "            print (df.at[index,column])\n",
    "            influScore_WRS_B += float(df.at[index, column])\n",
    "print (\"Total influenza combined scores for WRS_B_cells: \" + str(influScore_WRS_B))\n",
    "print(\"Total number of influenza samples with WRS_B_cell scores: \" + str(numInfluScores))\n",
    "print (\"Average WRS B Cell Signature Score for Influenza Pneumonia Patients: \" + str(influScore_WRS_B/numInfluScores))\n",
    "\n",
    "\n",
    "#same for bacterial\n",
    "\n",
    "bactScore_WRS_B = 0.0\n",
    "numBactScores = 0\n",
    "for index in df.index:\n",
    "    for column in df.columns:\n",
    "        if index == \"WRS_B_cell\" and 'bacteria' in column:\n",
    "            numBactScores +=1\n",
    "            print (df.at[index,column])\n",
    "            bactScore_WRS_B += float(df.at[index, column])\n",
    "print (\"Total bacterial combined scores for WRS_B_cells: \" + str(bactScore_WRS_B))\n",
    "print(\"Total number of bacterial samples with WRS_B_cell scores: \" + str(numBactScores))\n",
    "print (\"Average WRS B Cell Signature Score for Bacterial Pneumonia Patients: \" + str(bactScore_WRS_B/numBactScores))"
   ]
  },
  {
   "cell_type": "code",
   "execution_count": 17,
   "metadata": {},
   "outputs": [
    {
     "name": "stdout",
     "output_type": "stream",
     "text": [
      "0.782126912557923\n",
      "0.69629315701526\n",
      "0.686770635612678\n",
      "1.05322870142052\n",
      "1.01977150372992\n",
      "0.861177451546514\n",
      "1.41701164836184\n",
      "0.868782643777198\n",
      "0.830937853673067\n",
      "0.775269343781315\n",
      "0.752240595540996\n",
      "0.837109118304327\n",
      "1.07074387497376\n",
      "0.681268244953033\n",
      "0.736044120005783\n",
      "0.870921126154933\n",
      "0.935677143394039\n",
      "0.930577567929627\n",
      "1.11984712672166\n",
      "1.05978563004827\n",
      "1.09467674180233\n",
      "0.901972526639673\n",
      "1.11151198098581\n",
      "0.831105450846667\n",
      "0.855921598999692\n",
      "Total influenza combined scores for HPCA_B_cells: 22.78077269877684\n",
      "Total number of influenza samples with HPCA_B_cell scores: 25\n",
      "Average HPCA B Cell Signature Score for Influenza Pneumonia Patients: 0.9112309079510736\n",
      "0.547457902616796\n",
      "0.513637612694109\n",
      "0.51251105729939\n",
      "0.673150763583425\n",
      "0.761293111132954\n",
      "0.669439104343141\n",
      "0.820747168732916\n",
      "0.755735553251785\n",
      "0.801549105597556\n",
      "0.741567594688147\n",
      "0.447544927187107\n",
      "0.23149413230782\n",
      "0.353578519563441\n",
      "0.663504020661103\n",
      "0.79053675884043\n",
      "1.29425978009952\n",
      "0.836846152735659\n",
      "0.745940931147069\n",
      "0.807184935295867\n",
      "0.764787112877187\n",
      "0.917539312293993\n",
      "1.00070219565374\n",
      "0.789138252945154\n",
      "0.917055303135866\n",
      "0.982877977340411\n",
      "Total bacterial combined scores for HPCA_B_cells: 18.340079286024586\n",
      "Total number of bacterial samples with HPCA_B_cell scores: 25\n",
      "Average HPCA B Cell Signature Score for Bacterial Pneumonia Patients: 0.7336031714409834\n"
     ]
    }
   ],
   "source": [
    "#HPCA_B cells:\n",
    "\n",
    "influScore_HPCA_B = 0.0\n",
    "numInfluScores = 0\n",
    "\n",
    "#add score for every HPCA B_cell score corresponding to influenza samples\n",
    "\n",
    "for index in df.index:\n",
    "    for column in df.columns:\n",
    "        if index == \"HPCA_B_cells\" and 'influenza' in column:\n",
    "            numInfluScores +=1\n",
    "            print (df.at[index,column])\n",
    "            influScore_HPCA_B += float(df.at[index, column])\n",
    "print (\"Total influenza combined scores for HPCA_B_cells: \" + str(influScore_HPCA_B))\n",
    "print(\"Total number of influenza samples with HPCA_B_cell scores: \" + str(numInfluScores))\n",
    "print (\"Average HPCA B Cell Signature Score for Influenza Pneumonia Patients: \" + str(influScore_HPCA_B/numInfluScores))\n",
    "\n",
    "#same for bacterial\n",
    "\n",
    "bactScore_HPCA_B = 0.0\n",
    "numBactScores = 0\n",
    "for index in df.index:\n",
    "    for column in df.columns:\n",
    "        if index == \"HPCA_B_cells\" and 'bacteria' in column:\n",
    "            numBactScores +=1\n",
    "            print (df.at[index,column])\n",
    "            bactScore_HPCA_B += float(df.at[index, column])\n",
    "print (\"Total bacterial combined scores for HPCA_B_cells: \" + str(bactScore_HPCA_B))\n",
    "print(\"Total number of bacterial samples with HPCA_B_cell scores: \" + str(numBactScores))\n",
    "print (\"Average HPCA B Cell Signature Score for Bacterial Pneumonia Patients: \" + str(bactScore_HPCA_B/numBactScores))"
   ]
  },
  {
   "cell_type": "code",
   "execution_count": 18,
   "metadata": {
    "scrolled": true
   },
   "outputs": [
    {
     "name": "stdout",
     "output_type": "stream",
     "text": [
      "0.813478300080951\n",
      "1.15449882216838\n",
      "1.18441907758784\n",
      "0.745512703450546\n",
      "1.59058554431003\n",
      "0.546619680834547\n",
      "0.879564017799551\n",
      "0.550563092570077\n",
      "0.940262471705067\n",
      "0.746080837949483\n",
      "0.932593941296107\n",
      "1.05364574767871\n",
      "1.20970963185473\n",
      "1.21539829512557\n",
      "1.29313014365902\n",
      "1.14414573482395\n",
      "0.721260265691707\n",
      "0.903026623269276\n",
      "1.22034700322856\n",
      "0.892356373125478\n",
      "0.908300013039827\n",
      "0.876118518628312\n",
      "0.80945731467548\n",
      "1.17174354174069\n",
      "0.977709428259887\n",
      "Total influenza combined scores for HBA CD19+ B_cells: 24.48052712455378\n",
      "Total number of influenza samples with HBA CD19+ B_cell scores: 25\n",
      "Average HBA CD19+ B Cell Signature Score for Influenza Pneumonia Patients: 0.9112309079510736\n",
      "1.87551693501391\n",
      "1.79489679805291\n",
      "1.27925820598078\n",
      "1.66165627012948\n",
      "1.30666397294091\n",
      "1.10583249870268\n",
      "1.13300565257737\n",
      "0.917888761482937\n",
      "1.03498473896659\n",
      "1.19542983953492\n",
      "1.23100759845536\n",
      "1.42150067236537\n",
      "1.38870249298367\n",
      "1.2860945539555\n",
      "0.904702770984245\n",
      "0.478777204109377\n",
      "0.782954202556456\n",
      "0.680413064076074\n",
      "0.450932005586911\n",
      "0.558609878552675\n",
      "1.36254747828481\n",
      "0.907458943275773\n",
      "0.902150129632139\n",
      "1.43897999938713\n",
      "1.63886752855558\n",
      "Total bacterial combined scores for HBA CD19+ B_cells: 28.738832196143562\n",
      "Total number of bacterial samples with HBA CD19+ B_cell scores: 25\n",
      "Average HBA CD19+ B Cell Signature Score for Bacterial Pneumonia Patients: 1.1495532878457424\n"
     ]
    }
   ],
   "source": [
    "#HBA_CD19+_B cells\n",
    "\n",
    "influScore_CD19_B = 0.0\n",
    "numInfluScores = 0\n",
    "\n",
    "#add score for every HBA CD19+ B_cell score corresponding to influenza samples\n",
    "\n",
    "for index in df.index:\n",
    "    for column in df.columns:\n",
    "        if index == \"HBA_CD19+_BCells(neg\" and 'influenza' in column:\n",
    "            numInfluScores +=1\n",
    "            print (df.at[index,column])\n",
    "            influScore_CD19_B += float(df.at[index, column])\n",
    "print (\"Total influenza combined scores for HBA CD19+ B_cells: \" + str(influScore_CD19_B))\n",
    "print(\"Total number of influenza samples with HBA CD19+ B_cell scores: \" + str(numInfluScores))\n",
    "print (\"Average HBA CD19+ B Cell Signature Score for Influenza Pneumonia Patients: \" + str(influScore_HPCA_B/numInfluScores))\n",
    "\n",
    "#same for bacterial\n",
    "\n",
    "bactScore_CD19_B = 0.0\n",
    "numBactScores = 0\n",
    "\n",
    "for index in df.index:\n",
    "    for column in df.columns:\n",
    "        if index == \"HBA_CD19+_BCells(neg\" and 'bacteria' in column:\n",
    "            numBactScores +=1\n",
    "            print (df.at[index,column])\n",
    "            bactScore_CD19_B += float(df.at[index, column])\n",
    "print (\"Total bacterial combined scores for HBA CD19+ B_cells: \" + str(bactScore_CD19_B))\n",
    "print(\"Total number of bacterial samples with HBA CD19+ B_cell scores: \" + str(numBactScores))\n",
    "print (\"Average HBA CD19+ B Cell Signature Score for Bacterial Pneumonia Patients: \" + str(bactScore_CD19_B/numBactScores))"
   ]
  },
  {
   "cell_type": "code",
   "execution_count": 19,
   "metadata": {},
   "outputs": [
    {
     "data": {
      "text/plain": [
       "1.22645268374067"
      ]
     },
     "execution_count": 19,
     "metadata": {},
     "output_type": "execute_result"
    }
   ],
   "source": [
    "(influScore_WRS_B + influScore_HPCA_B + influScore_CD19_B)/(numInfluScores)"
   ]
  },
  {
   "cell_type": "code",
   "execution_count": 20,
   "metadata": {},
   "outputs": [
    {
     "data": {
      "text/plain": [
       "1.1925548800936625"
      ]
     },
     "execution_count": 20,
     "metadata": {},
     "output_type": "execute_result"
    }
   ],
   "source": [
    "(bactScore_WRS_B + bactScore_HPCA_B + bactScore_CD19_B)/(numBactScores)"
   ]
  },
  {
   "cell_type": "code",
   "execution_count": 21,
   "metadata": {},
   "outputs": [
    {
     "data": {
      "text/plain": [
       "0.03389780364700745"
      ]
     },
     "execution_count": 21,
     "metadata": {},
     "output_type": "execute_result"
    }
   ],
   "source": [
    "(influScore_WRS_B + influScore_HPCA_B + influScore_CD19_B)/(numInfluScores)- (bactScore_WRS_B + bactScore_HPCA_B + bactScore_CD19_B)/(numBactScores)"
   ]
  },
  {
   "cell_type": "markdown",
   "metadata": {},
   "source": [
    "### Summary of Experimental Statistics:"
   ]
  },
  {
   "cell_type": "markdown",
   "metadata": {},
   "source": [
    "<div> Note: All of the following scores are comprised of sample-signature correlation z-scores. </div>\n",
    "<br>\n",
    "<div>•Average WRS B Cell Signature Score for Influenza Pneumonia Patients: -0.6639993091925548 </div>\n",
    "<div>•Average WRS B Cell Signature Score for Bacterial Pneumonia Patients: -0.6906015791930633</div>\n",
    "<div>•Average HPCA B Cell Signature Score for Influenza Pneumonia Patients: 0.9112309079510736</div>\n",
    "<div>•Average HPCA B Cell Signature Score for Bacterial Pneumonia Patients: 0.7336031714409834</div>\n",
    "<div>•Average HBA CD19+ B Cell Signature Score for Influenza Pneumonia Patients: 0.9112309079510736</div>\n",
    "<div>•Average HBA CD19+ B Cell Signature Score for Bacterial Pneumonia Patients: 1.1495532878457424</div>\n",
    "<br>\n",
    "<div><b> Average combined B Cell Signature Score for Influenza Pneumonia Patients: </b>  1.22645268374067</div>\n",
    "<div><b> Average combined B Cell Signature Score for Bacterial Pneumonia Patients: </b>  1.1925548800936625</div>\n",
    "<br>\n",
    "<div><b> Difference in Average Combined B Cell Signature Score (Influenza - Bacterial): </b>  0.03389780364700745</div>\n",
    "    "
   ]
  },
  {
   "cell_type": "markdown",
   "metadata": {},
   "source": [
    "# ----------------------------------------------------------------------------------------"
   ]
  },
  {
   "cell_type": "markdown",
   "metadata": {},
   "source": [
    "# Bootstrap Data to Simulate Null Hypothesis:"
   ]
  },
  {
   "cell_type": "code",
   "execution_count": 22,
   "metadata": {},
   "outputs": [],
   "source": [
    "#get a row from the dataframe\n",
    "WRS_B_Row = df.loc[\"WRS_B_cell\"].astype(float)"
   ]
  },
  {
   "cell_type": "code",
   "execution_count": 23,
   "metadata": {},
   "outputs": [
    {
     "name": "stdout",
     "output_type": "stream",
     "text": [
      "[-0.74059969 -0.73925179 -0.72237042 -0.71093961 -0.75008849 -0.73292455\n",
      " -0.68234038 -0.68749783 -0.71029133 -0.71247269 -0.73586268 -0.71862768\n",
      " -0.74550796 -0.73763694 -0.72256863 -0.70722512 -0.70833823 -0.65699104\n",
      " -0.74435161 -0.60358771 -0.64951049 -0.65480856 -0.58033043 -0.62978383\n",
      " -0.6505095  -0.71084766 -0.67830327 -0.6929605  -0.73982445 -0.73144542\n",
      " -0.541429   -0.69638992 -0.69427665 -0.65990678 -0.62977776 -0.59137765\n",
      " -0.67673156 -0.64234804 -0.66281165 -0.67861338 -0.66631463 -0.57764547\n",
      " -0.69400512 -0.68939293 -0.68860338 -0.68798236 -0.58587973 -0.57192675\n",
      " -0.6145059  -0.62730505]\n",
      "50\n"
     ]
    }
   ],
   "source": [
    "#make array of the desired row- this one is my row of all \n",
    "#WRS B cell signature scores for both influenza and bacterial pneumonia samples\n",
    "WRS_B_Scores_Combined = np.array(0)\n",
    "WRS_B_Scores_Combined = WRS_B_Row.values   #this makes a numpy array out of the values from a series (the row of the dataframe is a series)\n",
    "print (WRS_B_Scores_Combined)\n",
    "\n",
    "#This should be 50... b/c 50 total samples...\n",
    "print (WRS_B_Scores_Combined.size)"
   ]
  },
  {
   "cell_type": "code",
   "execution_count": 24,
   "metadata": {},
   "outputs": [],
   "source": [
    "#make arrays for the HPCA B Cells and HBA CD19+ B Cells\n",
    "HPCA_B_Row = df.loc[\"HPCA_B_cells\"].astype(float)\n",
    "CD19_B_Row = df.loc[\"HBA_CD19+_BCells(neg\"].astype(float)\n",
    "\n",
    "HPCA_B_Scores_Combined = np.array(0)\n",
    "HPCA_B_Scores_Combined = HPCA_B_Row.values  \n",
    "\n",
    "CD19_B_Scores_Combined = np.array(0)\n",
    "CD19_B_Scores_Combined = CD19_B_Row.values"
   ]
  },
  {
   "cell_type": "markdown",
   "metadata": {},
   "source": [
    "<div><b> My null hypothesis is that there is no difference in WRS, HPCA, or HBA CD19+ B cell correlations between influenza and pneumonia patients. </b></div>\n",
    "<br>\n",
    "<div>Therefore, to test this null hypothesis, I will now resample groups of the same size as expreimental (n=25 for influenza and n=25 for bacteria) randomly grabbing WRS B cell signature scores from the combined population of signature scores (with replacement). The same will be performed separately for HPCA B cell signature scores and HBA CD19+ B Cell scores.</div>"
   ]
  },
  {
   "cell_type": "code",
   "execution_count": 25,
   "metadata": {
    "scrolled": true
   },
   "outputs": [
    {
     "name": "stdout",
     "output_type": "stream",
     "text": [
      "0.06122634574330177\n"
     ]
    }
   ],
   "source": [
    "#Example of the null hypothesis resampling\n",
    "#Note: I did validate by visual inspection on a couple runs \n",
    "#that this is working properly and resampling with replacement randomly\n",
    "\n",
    "influenzaSampleSize = 25\n",
    "bacterialSampleSize = 25\n",
    "\n",
    "#One resampling of WRS B Cell scores for two new bootstrapped groups:\n",
    "nullInfluenza_WRS_B = np.zeros(influenzaSampleSize)\n",
    "nullBacterial_WRS_B = np.zeros(bacterialSampleSize)\n",
    "for i in range(0, influenzaSampleSize):\n",
    "    nullInfluenza_WRS_B[i] = WRS_B_Scores_Combined[np.random.randint(0,49)]\n",
    "for i in range(0, bacterialSampleSize):\n",
    "    nullBacterial_WRS_B[i] = WRS_B_Scores_Combined[np.random.randint(0,49)]\n",
    "    \n",
    "#One resampling of HPCA B Cell scores for two new bootstrapped groups:\n",
    "nullInfluenza_HPCA_B = np.zeros(influenzaSampleSize)\n",
    "nullBacterial_HPCA_B = np.zeros(bacterialSampleSize)\n",
    "for i in range(0, influenzaSampleSize):\n",
    "    nullInfluenza_HPCA_B[i] = HPCA_B_Scores_Combined[np.random.randint(0,49)]\n",
    "for i in range(0, bacterialSampleSize):\n",
    "    nullBacterial_HPCA_B[i] = HPCA_B_Scores_Combined[np.random.randint(0,49)]\n",
    "    \n",
    "#One resampling of CD19 B Cell scores for two new bootstrapped groups:\n",
    "nullInfluenza_CD19_B = np.zeros(influenzaSampleSize)\n",
    "nullBacterial_CD19_B = np.zeros(bacterialSampleSize)\n",
    "for i in range(0, influenzaSampleSize):\n",
    "    nullInfluenza_CD19_B[i] = CD19_B_Scores_Combined[np.random.randint(0,49)]\n",
    "for i in range(0, bacterialSampleSize):\n",
    "    nullBacterial_CD19_B[i] = CD19_B_Scores_Combined[np.random.randint(0,49)]\n",
    "    \n",
    "#Calculate the statistic to be compared to experimental for each null distirbution resampling:\n",
    "nullHypInfluenzaScore = (np.sum(nullInfluenza_WRS_B) + np.sum(nullInfluenza_HPCA_B) + np.sum(nullInfluenza_CD19_B)) / influenzaSampleSize\n",
    "nullHypBactScore = (np.sum(nullBacterial_WRS_B) + np.sum(nullBacterial_HPCA_B) + np.sum(nullBacterial_CD19_B)) / bacterialSampleSize\n",
    "diff = nullHypInfluenzaScore - nullHypBactScore\n",
    "print(diff)"
   ]
  },
  {
   "cell_type": "markdown",
   "metadata": {},
   "source": [
    "<b> For my first bootstrap analysis re: B cell concentrations between the two kinds of pneumonia, I'm going to focus on a null distribution around the difference in average combined B cell score between influenza and bacterial pneuomonia groups: </b>"
   ]
  },
  {
   "cell_type": "code",
   "execution_count": 26,
   "metadata": {},
   "outputs": [],
   "source": [
    "#now do this 10,000 times and append to an array of null hypotheis simulations\n",
    "\n",
    "numSims = 10000\n",
    "influenzaSampleSize = 25\n",
    "bacterialSampleSize = 25\n",
    "\n",
    "#set up array to hold sim values\n",
    "#set up numpy arrays once (the necessary ones will be overwritten each sim)\n",
    "nullSims = []\n",
    "\n",
    "nullInfluenza_WRS_B = np.zeros(influenzaSampleSize)\n",
    "nullBacterial_WRS_B = np.zeros(bacterialSampleSize)\n",
    "nullInfluenza_HPCA_B = np.zeros(influenzaSampleSize)\n",
    "nullBacterial_HPCA_B = np.zeros(bacterialSampleSize)\n",
    "nullInfluenza_CD19_B = np.zeros(influenzaSampleSize)\n",
    "nullBacterial_CD19_B = np.zeros(bacterialSampleSize)\n",
    "\n",
    "for i in range(0, numSims):\n",
    "    for i in range(0, influenzaSampleSize):\n",
    "        nullInfluenza_WRS_B[i] = WRS_B_Scores_Combined[np.random.randint(0,influenzaSampleSize + bacterialSampleSize -1)]\n",
    "        nullInfluenza_HPCA_B[i] = HPCA_B_Scores_Combined[np.random.randint(0,influenzaSampleSize + bacterialSampleSize -1)]\n",
    "        nullInfluenza_CD19_B[i] = CD19_B_Scores_Combined[np.random.randint(0,influenzaSampleSize + bacterialSampleSize -1)]\n",
    "    for i in range(0, bacterialSampleSize):\n",
    "        nullBacterial_WRS_B[i] = WRS_B_Scores_Combined[np.random.randint(0,influenzaSampleSize + bacterialSampleSize -1)]\n",
    "        nullBacterial_HPCA_B[i] = HPCA_B_Scores_Combined[np.random.randint(0,influenzaSampleSize + bacterialSampleSize -1)]\n",
    "        nullBacterial_CD19_B[i] = CD19_B_Scores_Combined[np.random.randint(0,influenzaSampleSize + bacterialSampleSize -1)]\n",
    "        \n",
    "    nullHypInfluenzaScore = (np.sum(nullInfluenza_WRS_B) + np.sum(nullInfluenza_HPCA_B) + np.sum(nullInfluenza_CD19_B)) / influenzaSampleSize\n",
    "    nullHypBactScore = (np.sum(nullBacterial_WRS_B) + np.sum(nullBacterial_HPCA_B) + np.sum(nullBacterial_CD19_B)) / bacterialSampleSize\n",
    "    diff = nullHypInfluenzaScore - nullHypBactScore\n",
    "    \n",
    "    nullSims.append(diff)"
   ]
  },
  {
   "cell_type": "markdown",
   "metadata": {},
   "source": [
    "# Visualize experimental result in the context of the null hypothesis bootstrapped distirbution & Calculate p-values based on the null distribution: "
   ]
  },
  {
   "cell_type": "code",
   "execution_count": 29,
   "metadata": {},
   "outputs": [
    {
     "data": {
      "text/plain": [
       "<matplotlib.lines.Line2D at 0x7f8551e64400>"
      ]
     },
     "execution_count": 29,
     "metadata": {},
     "output_type": "execute_result"
    },
    {
     "data": {
      "image/png": "[encoded data removed]",
      "text/plain": [
       "<Figure size 432x288 with 1 Axes>"
      ]
     },
     "metadata": {
      "needs_background": "light"
     },
     "output_type": "display_data"
    }
   ],
   "source": [
    "plt = sns.histplot(nullSims)\n",
    "#plot the cutoff for our experimental value (note that this should be one-sided because \n",
    "#the claim/hypothesis was that B cell scores were more highly correlated with the influenza \n",
    "#pneomonia group (positive correlation)\n",
    "plt.axvline(0.03389780364700745, color = \"red\")\n",
    "plt.axvline(-0.03389780364700745, color = \"red\")"
   ]
  },
  {
   "cell_type": "code",
   "execution_count": 28,
   "metadata": {},
   "outputs": [
    {
     "name": "stdout",
     "output_type": "stream",
     "text": [
      "0.7725\n"
     ]
    }
   ],
   "source": [
    "#p-value will be the proportion of simulations with a result as extreme/ more extreme \n",
    "#compared to the experimental difference (ie: everything to the right of the red line above \n",
    "#because we're looking for a one-sided p-value)\n",
    "experimental_diff = 0.03389780364700745\n",
    "countResultsAsOrMoreExtreme = 0\n",
    "for i in range(0, numSims):\n",
    "    if (nullSims[i] >= experimental_diff or nullSims[i] <= -experimental_diff):\n",
    "        countResultsAsOrMoreExtreme += 1;\n",
    "\n",
    "p_value = countResultsAsOrMoreExtreme/ numSims\n",
    "print(p_value)"
   ]
  },
  {
   "cell_type": "markdown",
   "metadata": {},
   "source": [
    "<div><b> Conclusion regarding the hypothesis that influenza pneumonia patients had a higher score enrichment in B cell signatures compared to bacterial pneumonia patients: </b></div>\n",
    "<br>\n",
    "<div>With a p-value of 0.385, the experimental result is nowhere near our threshold of signicance (alpha = 0.05). Simulating the null hypothesis using bootstrapping of our sample-signature score data across all types of B cell signatures resulted in results as extreme or more extreme compared to the experimental result 38.5% of the time simply due to chance. Further research is needed on enrichment of specific B cell signatures in influenza compared to bacterial pneumonia patients, as there seemed to be more interesting underlying data across exact B cell signatures, rather than as a whole. (I'm planning to continue my work with those analyses next... - df )</div>"
   ]
  },
  {
   "cell_type": "code",
   "execution_count": 31,
   "metadata": {},
   "outputs": [
    {
     "name": "stdout",
     "output_type": "stream",
     "text": [
      "0.0718\n"
     ]
    },
    {
     "data": {
      "image/png": "[encoded data removed]",
      "text/plain": [
       "<Figure size 432x288 with 1 Axes>"
      ]
     },
     "metadata": {
      "needs_background": "light"
     },
     "output_type": "display_data"
    }
   ],
   "source": [
    "#SUBANALYSIS: WRS B Cells\n",
    "\n",
    "experimental_diff = 0.02660227   #diff in WRS B cell scores influenza - bacteria\n",
    "\n",
    "#10000 sims\n",
    "\n",
    "numSims = 10000\n",
    "influenzaSampleSize = 25\n",
    "bacterialSampleSize = 25\n",
    "\n",
    "#set up array to hold sim values\n",
    "#set up numpy arrays once (the necessary ones will be overwritten each sim)\n",
    "nullSims = []\n",
    "\n",
    "nullInfluenza_WRS_B = np.zeros(influenzaSampleSize)\n",
    "nullBacterial_WRS_B = np.zeros(bacterialSampleSize)\n",
    "\n",
    "for i in range(0, numSims):\n",
    "    for i in range(0, influenzaSampleSize):\n",
    "        nullInfluenza_WRS_B[i] = WRS_B_Scores_Combined[np.random.randint(0,influenzaSampleSize + bacterialSampleSize -1)]\n",
    "    for i in range(0, bacterialSampleSize):\n",
    "        nullBacterial_WRS_B[i] = WRS_B_Scores_Combined[np.random.randint(0,influenzaSampleSize + bacterialSampleSize -1)]\n",
    "        \n",
    "    nullHypInfluenzaScore = np.sum(nullInfluenza_WRS_B)/ influenzaSampleSize\n",
    "    nullHypBactScore = np.sum(nullBacterial_WRS_B) / bacterialSampleSize\n",
    "    diff = nullHypInfluenzaScore - nullHypBactScore\n",
    "    \n",
    "    nullSims.append(diff)\n",
    "                        \n",
    "plt = sns.histplot(nullSims)\n",
    "#plot the cutoff for our experimental value (note that this should be one-sided because \n",
    "#the claim/hypothesis was that B cell scores were more highly correlated with the influenza \n",
    "#pneomonia group (positive correlation)\n",
    "plt.axvline(experimental_diff, color = \"red\")\n",
    "plt.axvline(-experimental_diff, color = \"red\")\n",
    "plt\n",
    "                        \n",
    "#p-value will be the proportion of simulations with a result as extreme/ more extreme \n",
    "#compared to the experimental difference (ie: everything to the right of the red line above \n",
    "#because we're looking for a one-sided p-value)\n",
    "\n",
    "countResultsAsOrMoreExtreme = 0\n",
    "for i in range(0, numSims):\n",
    "    if (nullSims[i] >= experimental_diff or nullSims[i] <= -experimental_diff):\n",
    "        countResultsAsOrMoreExtreme += 1;\n",
    "\n",
    "p_value = countResultsAsOrMoreExtreme/ numSims\n",
    "print(p_value)"
   ]
  },
  {
   "cell_type": "code",
   "execution_count": 32,
   "metadata": {},
   "outputs": [
    {
     "name": "stdout",
     "output_type": "stream",
     "text": [
      "0.0034\n"
     ]
    },
    {
     "data": {
      "image/png": "[encoded data removed]",
      "text/plain": [
       "<Figure size 432x288 with 1 Axes>"
      ]
     },
     "metadata": {
      "needs_background": "light"
     },
     "output_type": "display_data"
    }
   ],
   "source": [
    "#SUBANALYSIS: HPCA B Cells\n",
    "\n",
    "experimental_diff = 0.9112309079510736 - 0.7336031714409834   #diff in HPCA B cell scores (influenza - bacteria)\n",
    "\n",
    "#10000 sims\n",
    "\n",
    "numSims = 10000\n",
    "influenzaSampleSize = 25\n",
    "bacterialSampleSize = 25\n",
    "\n",
    "#set up array to hold sim values\n",
    "#set up numpy arrays once (the necessary ones will be overwritten each sim)\n",
    "nullSims = []\n",
    "\n",
    "nullInfluenza_HPCA_B = np.zeros(influenzaSampleSize)\n",
    "nullBacterial_HPCA_B = np.zeros(bacterialSampleSize)\n",
    "\n",
    "for i in range(0, numSims):\n",
    "    for i in range(0, influenzaSampleSize):\n",
    "        nullInfluenza_HPCA_B[i] = HPCA_B_Scores_Combined[np.random.randint(0,influenzaSampleSize + bacterialSampleSize -1)]\n",
    "    for i in range(0, bacterialSampleSize):\n",
    "        nullBacterial_HPCA_B[i] = HPCA_B_Scores_Combined[np.random.randint(0,influenzaSampleSize + bacterialSampleSize -1)]\n",
    "        \n",
    "    nullHypInfluenzaScore = np.sum(nullInfluenza_HPCA_B)/ influenzaSampleSize\n",
    "    nullHypBactScore = np.sum(nullBacterial_HPCA_B) / bacterialSampleSize\n",
    "    diff = nullHypInfluenzaScore - nullHypBactScore\n",
    "    \n",
    "    nullSims.append(diff)\n",
    "                        \n",
    "plt = sns.histplot(nullSims)\n",
    "#plot the cutoff for our experimental value (note that this should be one-sided because \n",
    "#the claim/hypothesis was that B cell scores were more highly correlated with the influenza \n",
    "#pneomonia group (positive correlation)\n",
    "plt.axvline(experimental_diff, color = \"red\")\n",
    "plt.axvline(-experimental_diff, color = \"red\")\n",
    "plt\n",
    "                        \n",
    "#p-value will be the proportion of simulations with a result as extreme/ more extreme \n",
    "#compared to the experimental difference (ie: everything to the right of the red line above \n",
    "#because we're looking for a one-sided p-value)\n",
    "\n",
    "countResultsAsOrMoreExtreme = 0\n",
    "for i in range(0, numSims):\n",
    "    if (nullSims[i] >= experimental_diff or nullSims[i] <= -experimental_diff):\n",
    "        countResultsAsOrMoreExtreme += 1;\n",
    "\n",
    "p_value = countResultsAsOrMoreExtreme/ numSims\n",
    "print(p_value)"
   ]
  },
  {
   "cell_type": "code",
   "execution_count": 34,
   "metadata": {},
   "outputs": [
    {
     "name": "stdout",
     "output_type": "stream",
     "text": [
      "0.0053\n"
     ]
    },
    {
     "data": {
      "image/png": "[encoded data removed]",
      "text/plain": [
       "<Figure size 432x288 with 1 Axes>"
      ]
     },
     "metadata": {
      "needs_background": "light"
     },
     "output_type": "display_data"
    }
   ],
   "source": [
    "#SUBANALYSIS: CD19 B Cells\n",
    "\n",
    "experimental_diff = 0.9112309079510736 - 1.1495532878457424   #diff in CD19 B cell scores (influenza - bacteria)\n",
    "\n",
    "#10000 sims\n",
    "\n",
    "numSims = 10000\n",
    "influenzaSampleSize = 25\n",
    "bacterialSampleSize = 25\n",
    "\n",
    "#set up array to hold sim values\n",
    "#set up numpy arrays once (the necessary ones will be overwritten each sim)\n",
    "nullSims = []\n",
    "\n",
    "nullInfluenza_CD19_B = np.zeros(influenzaSampleSize)\n",
    "nullBacterial_CD19_B = np.zeros(bacterialSampleSize)\n",
    "\n",
    "for i in range(0, numSims):\n",
    "    for i in range(0, influenzaSampleSize):\n",
    "        nullInfluenza_CD19_B[i] = CD19_B_Scores_Combined[np.random.randint(0,influenzaSampleSize + bacterialSampleSize -1)]\n",
    "    for i in range(0, bacterialSampleSize):\n",
    "        nullBacterial_CD19_B[i] = CD19_B_Scores_Combined[np.random.randint(0,influenzaSampleSize + bacterialSampleSize -1)]\n",
    "        \n",
    "    nullHypInfluenzaScore = np.sum(nullInfluenza_CD19_B)/ influenzaSampleSize\n",
    "    nullHypBactScore = np.sum(nullBacterial_CD19_B) / bacterialSampleSize\n",
    "    diff = nullHypInfluenzaScore - nullHypBactScore\n",
    "    \n",
    "    nullSims.append(diff)\n",
    "                        \n",
    "plt = sns.histplot(nullSims)\n",
    "#plot the cutoff for our experimental value (note that this should be one-sided because \n",
    "#the claim/hypothesis was that B cell scores were more highly correlated with the influenza \n",
    "#pneomonia group (positive correlation)\n",
    "plt.axvline(experimental_diff, color = \"red\")\n",
    "plt.axvline(-experimental_diff, color = \"red\")\n",
    "plt\n",
    "                        \n",
    "#p-value will be the proportion of simulations with a result as extreme/ more extreme \n",
    "#compared to the experimental difference (ie: everything to the right of the red line above \n",
    "#because we're looking for a one-sided p-value)\n",
    "\n",
    "countResultsAsOrMoreExtreme = 0\n",
    "for i in range(0, numSims):\n",
    "    if (nullSims[i] >= abs(experimental_diff)):\n",
    "        countResultsAsOrMoreExtreme += 1;\n",
    "\n",
    "p_value = countResultsAsOrMoreExtreme/ numSims\n",
    "print(p_value)"
   ]
  },
  {
   "cell_type": "code",
   "execution_count": null,
   "metadata": {},
   "outputs": [],
   "source": []
  }
 ],
 "metadata": {
  "kernelspec": {
   "display_name": "Python 3",
   "language": "python",
   "name": "python3"
  },
  "language_info": {
   "codemirror_mode": {
    "name": "ipython",
    "version": 3
   },
   "file_extension": ".py",
   "mimetype": "text/x-python",
   "name": "python",
   "nbconvert_exporter": "python",
   "pygments_lexer": "ipython3",
   "version": "3.9.1"
  }
 },
 "nbformat": 4,
 "nbformat_minor": 4
}
